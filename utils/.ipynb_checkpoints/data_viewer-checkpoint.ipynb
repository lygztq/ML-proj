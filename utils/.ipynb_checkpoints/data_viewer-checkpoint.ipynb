{
 "cells": [
  {
   "cell_type": "code",
   "execution_count": 1,
   "metadata": {},
   "outputs": [
    {
     "name": "stdout",
     "output_type": "stream",
     "text": [
      "(66347L, 300L, 4L) (66347L, 37L)\n"
     ]
    }
   ],
   "source": [
    "import numpy as np\n",
    "import matplotlib.pyplot as plt\n",
    "from load_data import load_data\n",
    "\n",
    "# First see the distribution of number of labels for each instances\n",
    "data, label = load_data()\n",
    "print data.shape, label.shape"
   ]
  },
  {
   "cell_type": "code",
   "execution_count": 2,
   "metadata": {},
   "outputs": [
    {
     "name": "stdout",
     "output_type": "stream",
     "text": [
      "(66347L,)\n"
     ]
    }
   ],
   "source": [
    "# x: number of labels\n",
    "x = np.arange(0,38,1)\n",
    "sum_of_label = np.sum(label, axis=1)\n",
    "print sum_of_label.shape"
   ]
  },
  {
   "cell_type": "code",
   "execution_count": 15,
   "metadata": {},
   "outputs": [
    {
     "data": {
      "image/png": "[encoded data removed]",
      "text/plain": [
       "<matplotlib.figure.Figure at 0x17bb01d0>"
      ]
     },
     "metadata": {},
     "output_type": "display_data"
    },
    {
     "name": "stdout",
     "output_type": "stream",
     "text": [
      "[36624 24767  1039   212    60    21     7     3     0     1     0     0\n",
      "     0     0     0     0     0     0     0     0     0     0     0     0\n",
      "     0     0     0     0     0   867   202   370    15     0   314   611\n",
      "  1164    70]\n"
     ]
    }
   ],
   "source": [
    "N = sum_of_label.shape[0]\n",
    "num_label = np.zeros(38)\n",
    "\n",
    "for i in range(38):\n",
    "    num_label[i] = np.sum(sum_of_label==i)\n",
    "num_label = num_label.astype('int')\n",
    "\n",
    "plt.plot(x,num_label)\n",
    "plt.show()\n",
    "print num_label"
   ]
  },
  {
   "cell_type": "code",
   "execution_count": null,
   "metadata": {},
   "outputs": [],
   "source": []
  }
 ],
 "metadata": {
  "kernelspec": {
   "display_name": "Python 2",
   "language": "python",
   "name": "python2"
  },
  "language_info": {
   "codemirror_mode": {
    "name": "ipython",
    "version": 2
   },
   "file_extension": ".py",
   "mimetype": "text/x-python",
   "name": "python",
   "nbconvert_exporter": "python",
   "pygments_lexer": "ipython2",
   "version": "2.7.14"
  }
 },
 "nbformat": 4,
 "nbformat_minor": 2
}
